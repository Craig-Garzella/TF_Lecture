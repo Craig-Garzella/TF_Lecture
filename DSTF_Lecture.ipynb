{
 "cells": [
  {
   "cell_type": "markdown",
   "metadata": {},
   "source": [
    "# TensorFlow Concepts"
   ]
  },
  {
   "cell_type": "markdown",
   "metadata": {},
   "source": [
    "## Tensor + Flow"
   ]
  },
  {
   "cell_type": "markdown",
   "metadata": {},
   "source": [
    "### Tensor"
   ]
  },
  {
   "cell_type": "markdown",
   "metadata": {},
   "source": [
    "A tensor is a geometric object. Mapping in a multi-linear manner. Geometric vectors, scalars and other tensors. These can be in many dimensions. 2, 3 4 or more"
   ]
  },
  {
   "cell_type": "markdown",
   "metadata": {},
   "source": [
    "### Flow"
   ]
  },
  {
   "cell_type": "markdown",
   "metadata": {},
   "source": [
    "This one doesn't have a simple definition.. "
   ]
  },
  {
   "cell_type": "markdown",
   "metadata": {},
   "source": [
    "Flow comes from the concept of of mapping graphs of computations."
   ]
  },
  {
   "cell_type": "markdown",
   "metadata": {},
   "source": [
    "<img src=\"images_DSTF/computation_graph.png\">"
   ]
  },
  {
   "cell_type": "markdown",
   "metadata": {},
   "source": [
    "These graphs are created with the purpose of following a  pre-defined path. Edges represent the *flow* of the computation- leading to a final destination. "
   ]
  },
  {
   "cell_type": "markdown",
   "metadata": {},
   "source": [
    "## Tensor + Flow = TensorFlow"
   ]
  },
  {
   "cell_type": "markdown",
   "metadata": {},
   "source": [
    "TensorFlow combines these concepts to create a computation graph with the ability compute nodes on large-scale tensor(s)"
   ]
  },
  {
   "cell_type": "markdown",
   "metadata": {},
   "source": [
    "## Benefits? Why not just write 80 lines of with referential dataset names"
   ]
  },
  {
   "cell_type": "markdown",
   "metadata": {},
   "source": [
    "* Created computation graphs allow for easy parallelism and distribution across of resources across nodes. \n",
    "* This abstract computation across different systems is a paradigm of object orientated programming\n",
    "* Saves time and resources when large data sets are needed\n",
    "* Graphs created in python can be exported and loaded into another language. "
   ]
  },
  {
   "cell_type": "markdown",
   "metadata": {},
   "source": [
    "## Again, why TensorFlow? Why not feed several linked partitions/resources large data and wait for then end? It won't change how long it takes?"
   ]
  },
  {
   "cell_type": "markdown",
   "metadata": {},
   "source": [
    "This is an example of static computation. Static computation may be needed in some cases. Large data often has computations that can be done in parallel and do not form a linear path . "
   ]
  },
  {
   "cell_type": "markdown",
   "metadata": {},
   "source": [
    "TensorFlow excels at **Dynamic Declaration**. It uses dynamic grpahs that are defined implicitly as forward computation is executed. Evaluation and construction done at the same time. "
   ]
  },
  {
   "cell_type": "markdown",
   "metadata": {},
   "source": [
    "A Dynamic structure Pros!\n",
    "1. Hierarchical structures may implicitly exist in language (Allowing us to let the network reflect that hierarchy) \n",
    "2. This structure is easiest to control \n",
    "3. Combinatorial algorithms or dynamic programming \n",
    "(allows us to exploit independencies to compute over a large space of operations tractably)\n",
    "4. more pythonic (thats a new word). Easier to write, more *natural*, *changing*, *intuitive*"
   ]
  },
  {
   "cell_type": "markdown",
   "metadata": {},
   "source": [
    "Cons include: little time for graph optimization and wasted effort if your graph turns out to be a static one. "
   ]
  },
  {
   "cell_type": "code",
   "execution_count": null,
   "metadata": {},
   "outputs": [],
   "source": []
  }
 ],
 "metadata": {
  "kernelspec": {
   "display_name": "Python 3",
   "language": "python",
   "name": "python3"
  },
  "language_info": {
   "codemirror_mode": {
    "name": "ipython",
    "version": 3
   },
   "file_extension": ".py",
   "mimetype": "text/x-python",
   "name": "python",
   "nbconvert_exporter": "python",
   "pygments_lexer": "ipython3",
   "version": "3.7.1"
  },
  "toc": {
   "base_numbering": 1,
   "nav_menu": {},
   "number_sections": true,
   "sideBar": true,
   "skip_h1_title": false,
   "title_cell": "Table of Contents",
   "title_sidebar": "Contents",
   "toc_cell": false,
   "toc_position": {},
   "toc_section_display": true,
   "toc_window_display": false
  }
 },
 "nbformat": 4,
 "nbformat_minor": 2
}
